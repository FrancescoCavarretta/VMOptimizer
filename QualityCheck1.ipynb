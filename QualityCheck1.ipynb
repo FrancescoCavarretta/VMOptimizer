{
 "cells": [
  {
   "cell_type": "code",
   "execution_count": 1,
   "id": "dfe6920b",
   "metadata": {},
   "outputs": [],
   "source": [
    "import pandas as pd\n",
    "import numpy as np\n",
    "import seaborn as sns\n",
    "import matplotlib.pyplot as plt\n",
    "import scipy.stats as stats\n",
    "import warnings\n",
    "import matplotlib"
   ]
  },
  {
   "cell_type": "code",
   "execution_count": 2,
   "id": "96acb685",
   "metadata": {},
   "outputs": [],
   "source": [
    "warnings.simplefilter(\"ignore\")"
   ]
  },
  {
   "cell_type": "markdown",
   "id": "d0383b4f",
   "metadata": {},
   "source": [
    "# Experimental data preparation"
   ]
  },
  {
   "cell_type": "code",
   "execution_count": 3,
   "id": "ac760568",
   "metadata": {},
   "outputs": [],
   "source": [
    "# read the efeatures and retained only the neurons selected during the preliminary quality checks\n",
    "experiment_df = pd.read_csv('preprocessed_data_efeatures_selection.csv')"
   ]
  },
  {
   "cell_type": "code",
   "execution_count": 4,
   "id": "c0a2b2d4",
   "metadata": {},
   "outputs": [],
   "source": [
    "# reduce the attributes to the AP counts\n",
    "experiment_df = experiment_df[['state',  'step current', 'stim dur', 'protocol', \n",
    "                               'AP_count', 'AP_count_before_stim', 'AP_count_after_stim']]"
   ]
  },
  {
   "cell_type": "code",
   "execution_count": 5,
   "id": "ec801e31",
   "metadata": {},
   "outputs": [],
   "source": [
    "# rename columns\n",
    "experiment_df.rename(columns={'stim dur':'duration', 'step current':'amplitude'}, inplace=True)"
   ]
  },
  {
   "cell_type": "code",
   "execution_count": 6,
   "id": "b87c2a1f",
   "metadata": {},
   "outputs": [],
   "source": [
    "# rename state\n",
    "experiment_df['state'].replace({'control':'normal'}, inplace=True)"
   ]
  },
  {
   "cell_type": "code",
   "execution_count": 7,
   "id": "7f11973f",
   "metadata": {},
   "outputs": [],
   "source": [
    "# we are not interested \n",
    "# boundaries\n",
    "experiment_df = pd.concat([\n",
    "    experiment_df[(experiment_df['protocol'] == 'fi') & experiment_df['amplitude'].between(0, 300)],\n",
    "    experiment_df[(experiment_df['protocol'] == 'rmih') & experiment_df['amplitude'].between(-200, -50)],\n",
    "    experiment_df[(experiment_df['protocol'] == 'tburst') & (experiment_df['duration'] == 2000) & experiment_df['amplitude'].between(-300, -100)]\n",
    "])"
   ]
  },
  {
   "cell_type": "code",
   "execution_count": 8,
   "id": "4f984d38",
   "metadata": {},
   "outputs": [
    {
     "data": {
      "text/html": [
       "<div>\n",
       "<style scoped>\n",
       "    .dataframe tbody tr th:only-of-type {\n",
       "        vertical-align: middle;\n",
       "    }\n",
       "\n",
       "    .dataframe tbody tr th {\n",
       "        vertical-align: top;\n",
       "    }\n",
       "\n",
       "    .dataframe thead th {\n",
       "        text-align: right;\n",
       "    }\n",
       "</style>\n",
       "<table border=\"1\" class=\"dataframe\">\n",
       "  <thead>\n",
       "    <tr style=\"text-align: right;\">\n",
       "      <th></th>\n",
       "      <th></th>\n",
       "      <th></th>\n",
       "      <th></th>\n",
       "      <th>AP_count</th>\n",
       "      <th>AP_count_before_stim</th>\n",
       "      <th>AP_count_after_stim</th>\n",
       "    </tr>\n",
       "    <tr>\n",
       "      <th>protocol</th>\n",
       "      <th>duration</th>\n",
       "      <th>amplitude</th>\n",
       "      <th>state</th>\n",
       "      <th></th>\n",
       "      <th></th>\n",
       "      <th></th>\n",
       "    </tr>\n",
       "  </thead>\n",
       "  <tbody>\n",
       "    <tr>\n",
       "      <th rowspan=\"30\" valign=\"top\">fi</th>\n",
       "      <th rowspan=\"30\" valign=\"top\">2000.0</th>\n",
       "      <th rowspan=\"2\" valign=\"top\">20.0</th>\n",
       "      <th>6ohda</th>\n",
       "      <td>7</td>\n",
       "      <td>7</td>\n",
       "      <td>7</td>\n",
       "    </tr>\n",
       "    <tr>\n",
       "      <th>normal</th>\n",
       "      <td>9</td>\n",
       "      <td>9</td>\n",
       "      <td>9</td>\n",
       "    </tr>\n",
       "    <tr>\n",
       "      <th rowspan=\"2\" valign=\"top\">40.0</th>\n",
       "      <th>6ohda</th>\n",
       "      <td>7</td>\n",
       "      <td>7</td>\n",
       "      <td>7</td>\n",
       "    </tr>\n",
       "    <tr>\n",
       "      <th>normal</th>\n",
       "      <td>9</td>\n",
       "      <td>9</td>\n",
       "      <td>9</td>\n",
       "    </tr>\n",
       "    <tr>\n",
       "      <th rowspan=\"2\" valign=\"top\">60.0</th>\n",
       "      <th>6ohda</th>\n",
       "      <td>7</td>\n",
       "      <td>7</td>\n",
       "      <td>7</td>\n",
       "    </tr>\n",
       "    <tr>\n",
       "      <th>normal</th>\n",
       "      <td>9</td>\n",
       "      <td>9</td>\n",
       "      <td>9</td>\n",
       "    </tr>\n",
       "    <tr>\n",
       "      <th rowspan=\"2\" valign=\"top\">80.0</th>\n",
       "      <th>6ohda</th>\n",
       "      <td>7</td>\n",
       "      <td>7</td>\n",
       "      <td>7</td>\n",
       "    </tr>\n",
       "    <tr>\n",
       "      <th>normal</th>\n",
       "      <td>9</td>\n",
       "      <td>9</td>\n",
       "      <td>9</td>\n",
       "    </tr>\n",
       "    <tr>\n",
       "      <th rowspan=\"2\" valign=\"top\">100.0</th>\n",
       "      <th>6ohda</th>\n",
       "      <td>7</td>\n",
       "      <td>7</td>\n",
       "      <td>7</td>\n",
       "    </tr>\n",
       "    <tr>\n",
       "      <th>normal</th>\n",
       "      <td>9</td>\n",
       "      <td>9</td>\n",
       "      <td>9</td>\n",
       "    </tr>\n",
       "    <tr>\n",
       "      <th rowspan=\"2\" valign=\"top\">120.0</th>\n",
       "      <th>6ohda</th>\n",
       "      <td>7</td>\n",
       "      <td>7</td>\n",
       "      <td>7</td>\n",
       "    </tr>\n",
       "    <tr>\n",
       "      <th>normal</th>\n",
       "      <td>9</td>\n",
       "      <td>9</td>\n",
       "      <td>9</td>\n",
       "    </tr>\n",
       "    <tr>\n",
       "      <th rowspan=\"2\" valign=\"top\">140.0</th>\n",
       "      <th>6ohda</th>\n",
       "      <td>7</td>\n",
       "      <td>7</td>\n",
       "      <td>7</td>\n",
       "    </tr>\n",
       "    <tr>\n",
       "      <th>normal</th>\n",
       "      <td>9</td>\n",
       "      <td>9</td>\n",
       "      <td>9</td>\n",
       "    </tr>\n",
       "    <tr>\n",
       "      <th rowspan=\"2\" valign=\"top\">160.0</th>\n",
       "      <th>6ohda</th>\n",
       "      <td>7</td>\n",
       "      <td>7</td>\n",
       "      <td>7</td>\n",
       "    </tr>\n",
       "    <tr>\n",
       "      <th>normal</th>\n",
       "      <td>9</td>\n",
       "      <td>9</td>\n",
       "      <td>9</td>\n",
       "    </tr>\n",
       "    <tr>\n",
       "      <th rowspan=\"2\" valign=\"top\">180.0</th>\n",
       "      <th>6ohda</th>\n",
       "      <td>7</td>\n",
       "      <td>7</td>\n",
       "      <td>7</td>\n",
       "    </tr>\n",
       "    <tr>\n",
       "      <th>normal</th>\n",
       "      <td>9</td>\n",
       "      <td>9</td>\n",
       "      <td>9</td>\n",
       "    </tr>\n",
       "    <tr>\n",
       "      <th rowspan=\"2\" valign=\"top\">200.0</th>\n",
       "      <th>6ohda</th>\n",
       "      <td>7</td>\n",
       "      <td>7</td>\n",
       "      <td>7</td>\n",
       "    </tr>\n",
       "    <tr>\n",
       "      <th>normal</th>\n",
       "      <td>9</td>\n",
       "      <td>9</td>\n",
       "      <td>9</td>\n",
       "    </tr>\n",
       "    <tr>\n",
       "      <th rowspan=\"2\" valign=\"top\">220.0</th>\n",
       "      <th>6ohda</th>\n",
       "      <td>7</td>\n",
       "      <td>7</td>\n",
       "      <td>7</td>\n",
       "    </tr>\n",
       "    <tr>\n",
       "      <th>normal</th>\n",
       "      <td>9</td>\n",
       "      <td>9</td>\n",
       "      <td>9</td>\n",
       "    </tr>\n",
       "    <tr>\n",
       "      <th rowspan=\"2\" valign=\"top\">240.0</th>\n",
       "      <th>6ohda</th>\n",
       "      <td>7</td>\n",
       "      <td>7</td>\n",
       "      <td>7</td>\n",
       "    </tr>\n",
       "    <tr>\n",
       "      <th>normal</th>\n",
       "      <td>9</td>\n",
       "      <td>9</td>\n",
       "      <td>9</td>\n",
       "    </tr>\n",
       "    <tr>\n",
       "      <th rowspan=\"2\" valign=\"top\">260.0</th>\n",
       "      <th>6ohda</th>\n",
       "      <td>6</td>\n",
       "      <td>6</td>\n",
       "      <td>6</td>\n",
       "    </tr>\n",
       "    <tr>\n",
       "      <th>normal</th>\n",
       "      <td>9</td>\n",
       "      <td>9</td>\n",
       "      <td>9</td>\n",
       "    </tr>\n",
       "    <tr>\n",
       "      <th rowspan=\"2\" valign=\"top\">280.0</th>\n",
       "      <th>6ohda</th>\n",
       "      <td>4</td>\n",
       "      <td>4</td>\n",
       "      <td>4</td>\n",
       "    </tr>\n",
       "    <tr>\n",
       "      <th>normal</th>\n",
       "      <td>9</td>\n",
       "      <td>9</td>\n",
       "      <td>9</td>\n",
       "    </tr>\n",
       "    <tr>\n",
       "      <th rowspan=\"2\" valign=\"top\">300.0</th>\n",
       "      <th>6ohda</th>\n",
       "      <td>3</td>\n",
       "      <td>3</td>\n",
       "      <td>3</td>\n",
       "    </tr>\n",
       "    <tr>\n",
       "      <th>normal</th>\n",
       "      <td>8</td>\n",
       "      <td>8</td>\n",
       "      <td>8</td>\n",
       "    </tr>\n",
       "    <tr>\n",
       "      <th rowspan=\"8\" valign=\"top\">rmih</th>\n",
       "      <th rowspan=\"8\" valign=\"top\">2000.0</th>\n",
       "      <th rowspan=\"2\" valign=\"top\">-200.0</th>\n",
       "      <th>6ohda</th>\n",
       "      <td>0</td>\n",
       "      <td>7</td>\n",
       "      <td>7</td>\n",
       "    </tr>\n",
       "    <tr>\n",
       "      <th>normal</th>\n",
       "      <td>0</td>\n",
       "      <td>8</td>\n",
       "      <td>8</td>\n",
       "    </tr>\n",
       "    <tr>\n",
       "      <th rowspan=\"2\" valign=\"top\">-150.0</th>\n",
       "      <th>6ohda</th>\n",
       "      <td>0</td>\n",
       "      <td>6</td>\n",
       "      <td>6</td>\n",
       "    </tr>\n",
       "    <tr>\n",
       "      <th>normal</th>\n",
       "      <td>0</td>\n",
       "      <td>8</td>\n",
       "      <td>8</td>\n",
       "    </tr>\n",
       "    <tr>\n",
       "      <th rowspan=\"2\" valign=\"top\">-100.0</th>\n",
       "      <th>6ohda</th>\n",
       "      <td>0</td>\n",
       "      <td>7</td>\n",
       "      <td>7</td>\n",
       "    </tr>\n",
       "    <tr>\n",
       "      <th>normal</th>\n",
       "      <td>0</td>\n",
       "      <td>8</td>\n",
       "      <td>8</td>\n",
       "    </tr>\n",
       "    <tr>\n",
       "      <th rowspan=\"2\" valign=\"top\">-50.0</th>\n",
       "      <th>6ohda</th>\n",
       "      <td>0</td>\n",
       "      <td>6</td>\n",
       "      <td>6</td>\n",
       "    </tr>\n",
       "    <tr>\n",
       "      <th>normal</th>\n",
       "      <td>0</td>\n",
       "      <td>8</td>\n",
       "      <td>8</td>\n",
       "    </tr>\n",
       "    <tr>\n",
       "      <th rowspan=\"10\" valign=\"top\">tburst</th>\n",
       "      <th rowspan=\"10\" valign=\"top\">2000.0</th>\n",
       "      <th rowspan=\"2\" valign=\"top\">-300.0</th>\n",
       "      <th>6ohda</th>\n",
       "      <td>0</td>\n",
       "      <td>5</td>\n",
       "      <td>5</td>\n",
       "    </tr>\n",
       "    <tr>\n",
       "      <th>normal</th>\n",
       "      <td>0</td>\n",
       "      <td>7</td>\n",
       "      <td>7</td>\n",
       "    </tr>\n",
       "    <tr>\n",
       "      <th rowspan=\"2\" valign=\"top\">-250.0</th>\n",
       "      <th>6ohda</th>\n",
       "      <td>0</td>\n",
       "      <td>7</td>\n",
       "      <td>7</td>\n",
       "    </tr>\n",
       "    <tr>\n",
       "      <th>normal</th>\n",
       "      <td>0</td>\n",
       "      <td>7</td>\n",
       "      <td>7</td>\n",
       "    </tr>\n",
       "    <tr>\n",
       "      <th rowspan=\"2\" valign=\"top\">-200.0</th>\n",
       "      <th>6ohda</th>\n",
       "      <td>0</td>\n",
       "      <td>7</td>\n",
       "      <td>7</td>\n",
       "    </tr>\n",
       "    <tr>\n",
       "      <th>normal</th>\n",
       "      <td>0</td>\n",
       "      <td>7</td>\n",
       "      <td>7</td>\n",
       "    </tr>\n",
       "    <tr>\n",
       "      <th rowspan=\"2\" valign=\"top\">-150.0</th>\n",
       "      <th>6ohda</th>\n",
       "      <td>0</td>\n",
       "      <td>7</td>\n",
       "      <td>7</td>\n",
       "    </tr>\n",
       "    <tr>\n",
       "      <th>normal</th>\n",
       "      <td>0</td>\n",
       "      <td>7</td>\n",
       "      <td>7</td>\n",
       "    </tr>\n",
       "    <tr>\n",
       "      <th rowspan=\"2\" valign=\"top\">-100.0</th>\n",
       "      <th>6ohda</th>\n",
       "      <td>0</td>\n",
       "      <td>6</td>\n",
       "      <td>6</td>\n",
       "    </tr>\n",
       "    <tr>\n",
       "      <th>normal</th>\n",
       "      <td>0</td>\n",
       "      <td>7</td>\n",
       "      <td>7</td>\n",
       "    </tr>\n",
       "  </tbody>\n",
       "</table>\n",
       "</div>"
      ],
      "text/plain": [
       "                                    AP_count  AP_count_before_stim  \\\n",
       "protocol duration amplitude state                                    \n",
       "fi       2000.0    20.0     6ohda          7                     7   \n",
       "                            normal         9                     9   \n",
       "                   40.0     6ohda          7                     7   \n",
       "                            normal         9                     9   \n",
       "                   60.0     6ohda          7                     7   \n",
       "                            normal         9                     9   \n",
       "                   80.0     6ohda          7                     7   \n",
       "                            normal         9                     9   \n",
       "                   100.0    6ohda          7                     7   \n",
       "                            normal         9                     9   \n",
       "                   120.0    6ohda          7                     7   \n",
       "                            normal         9                     9   \n",
       "                   140.0    6ohda          7                     7   \n",
       "                            normal         9                     9   \n",
       "                   160.0    6ohda          7                     7   \n",
       "                            normal         9                     9   \n",
       "                   180.0    6ohda          7                     7   \n",
       "                            normal         9                     9   \n",
       "                   200.0    6ohda          7                     7   \n",
       "                            normal         9                     9   \n",
       "                   220.0    6ohda          7                     7   \n",
       "                            normal         9                     9   \n",
       "                   240.0    6ohda          7                     7   \n",
       "                            normal         9                     9   \n",
       "                   260.0    6ohda          6                     6   \n",
       "                            normal         9                     9   \n",
       "                   280.0    6ohda          4                     4   \n",
       "                            normal         9                     9   \n",
       "                   300.0    6ohda          3                     3   \n",
       "                            normal         8                     8   \n",
       "rmih     2000.0   -200.0    6ohda          0                     7   \n",
       "                            normal         0                     8   \n",
       "                  -150.0    6ohda          0                     6   \n",
       "                            normal         0                     8   \n",
       "                  -100.0    6ohda          0                     7   \n",
       "                            normal         0                     8   \n",
       "                  -50.0     6ohda          0                     6   \n",
       "                            normal         0                     8   \n",
       "tburst   2000.0   -300.0    6ohda          0                     5   \n",
       "                            normal         0                     7   \n",
       "                  -250.0    6ohda          0                     7   \n",
       "                            normal         0                     7   \n",
       "                  -200.0    6ohda          0                     7   \n",
       "                            normal         0                     7   \n",
       "                  -150.0    6ohda          0                     7   \n",
       "                            normal         0                     7   \n",
       "                  -100.0    6ohda          0                     6   \n",
       "                            normal         0                     7   \n",
       "\n",
       "                                    AP_count_after_stim  \n",
       "protocol duration amplitude state                        \n",
       "fi       2000.0    20.0     6ohda                     7  \n",
       "                            normal                    9  \n",
       "                   40.0     6ohda                     7  \n",
       "                            normal                    9  \n",
       "                   60.0     6ohda                     7  \n",
       "                            normal                    9  \n",
       "                   80.0     6ohda                     7  \n",
       "                            normal                    9  \n",
       "                   100.0    6ohda                     7  \n",
       "                            normal                    9  \n",
       "                   120.0    6ohda                     7  \n",
       "                            normal                    9  \n",
       "                   140.0    6ohda                     7  \n",
       "                            normal                    9  \n",
       "                   160.0    6ohda                     7  \n",
       "                            normal                    9  \n",
       "                   180.0    6ohda                     7  \n",
       "                            normal                    9  \n",
       "                   200.0    6ohda                     7  \n",
       "                            normal                    9  \n",
       "                   220.0    6ohda                     7  \n",
       "                            normal                    9  \n",
       "                   240.0    6ohda                     7  \n",
       "                            normal                    9  \n",
       "                   260.0    6ohda                     6  \n",
       "                            normal                    9  \n",
       "                   280.0    6ohda                     4  \n",
       "                            normal                    9  \n",
       "                   300.0    6ohda                     3  \n",
       "                            normal                    8  \n",
       "rmih     2000.0   -200.0    6ohda                     7  \n",
       "                            normal                    8  \n",
       "                  -150.0    6ohda                     6  \n",
       "                            normal                    8  \n",
       "                  -100.0    6ohda                     7  \n",
       "                            normal                    8  \n",
       "                  -50.0     6ohda                     6  \n",
       "                            normal                    8  \n",
       "tburst   2000.0   -300.0    6ohda                     5  \n",
       "                            normal                    7  \n",
       "                  -250.0    6ohda                     7  \n",
       "                            normal                    7  \n",
       "                  -200.0    6ohda                     7  \n",
       "                            normal                    7  \n",
       "                  -150.0    6ohda                     7  \n",
       "                            normal                    7  \n",
       "                  -100.0    6ohda                     6  \n",
       "                            normal                    7  "
      ]
     },
     "execution_count": 8,
     "metadata": {},
     "output_type": "execute_result"
    }
   ],
   "source": [
    "experiment_df.groupby(['protocol', 'duration', 'amplitude', 'state']).count()"
   ]
  },
  {
   "cell_type": "code",
   "execution_count": 9,
   "id": "b6f8468b",
   "metadata": {},
   "outputs": [
    {
     "data": {
      "text/plain": [
       "<AxesSubplot:xlabel='amplitude', ylabel='AP_count'>"
      ]
     },
     "execution_count": 9,
     "metadata": {},
     "output_type": "execute_result"
    },
    {
     "data": {
      "image/png": "[encoded data removed]",
      "text/plain": [
       "<Figure size 640x480 with 1 Axes>"
      ]
     },
     "metadata": {},
     "output_type": "display_data"
    }
   ],
   "source": [
    "sns.lineplot(data=experiment_df[experiment_df['protocol'] == 'fi'], x='amplitude', y='AP_count', hue='state', palette=['red', 'black'])"
   ]
  },
  {
   "cell_type": "code",
   "execution_count": 10,
   "id": "a17f5c59",
   "metadata": {},
   "outputs": [
    {
     "data": {
      "text/plain": [
       "<AxesSubplot:xlabel='amplitude', ylabel='AP_count_after_stim'>"
      ]
     },
     "execution_count": 10,
     "metadata": {},
     "output_type": "execute_result"
    },
    {
     "data": {
      "image/png": "[encoded data removed]",
      "text/plain": [
       "<Figure size 640x480 with 1 Axes>"
      ]
     },
     "metadata": {},
     "output_type": "display_data"
    }
   ],
   "source": [
    "sns.lineplot(data=experiment_df[experiment_df['protocol'] == 'rmih'], x='amplitude', y='AP_count_after_stim', hue='state', palette=['red', 'black'])"
   ]
  },
  {
   "cell_type": "code",
   "execution_count": 11,
   "id": "52d53b50",
   "metadata": {},
   "outputs": [
    {
     "data": {
      "image/png": "[encoded data removed]",
      "text/plain": [
       "<Figure size 640x480 with 1 Axes>"
      ]
     },
     "metadata": {},
     "output_type": "display_data"
    },
    {
     "data": {
      "image/png": "[encoded data removed]",
      "text/plain": [
       "<Figure size 640x480 with 1 Axes>"
      ]
     },
     "metadata": {},
     "output_type": "display_data"
    }
   ],
   "source": [
    "for dur in [500, 2000]:\n",
    "    plt.title('stim duration ' + str(dur))\n",
    "    sns.lineplot(data=experiment_df[(experiment_df['protocol'] == 'tburst') & (experiment_df['duration'] == dur)], x='amplitude', y='AP_count_after_stim', hue='state', palette=['red', 'black'])\n",
    "    plt.show()"
   ]
  },
  {
   "cell_type": "markdown",
   "id": "8614d1e0",
   "metadata": {},
   "source": [
    "# Simulation data preparation"
   ]
  },
  {
   "cell_type": "code",
   "execution_count": 12,
   "id": "076e95a3",
   "metadata": {},
   "outputs": [],
   "source": [
    "df = pd.read_csv('hof_3sd_0.csv')\n",
    "df_no_km = pd.read_csv('hof_3sd_0_no_km.csv')"
   ]
  },
  {
   "cell_type": "code",
   "execution_count": 13,
   "id": "4c56c299",
   "metadata": {},
   "outputs": [
    {
     "data": {
      "text/plain": [
       "(11655, 13)"
      ]
     },
     "execution_count": 13,
     "metadata": {},
     "output_type": "execute_result"
    }
   ],
   "source": [
    "df.shape"
   ]
  },
  {
   "cell_type": "code",
   "execution_count": 14,
   "id": "7a260f85",
   "metadata": {},
   "outputs": [
    {
     "data": {
      "text/plain": [
       "(11655, 13)"
      ]
     },
     "execution_count": 14,
     "metadata": {},
     "output_type": "execute_result"
    }
   ],
   "source": [
    "df_no_km.shape"
   ]
  },
  {
   "cell_type": "code",
   "execution_count": 15,
   "id": "74b7b181",
   "metadata": {},
   "outputs": [],
   "source": [
    "df.set_index(['etype', 'cellid', 'seed'], inplace=True)\n",
    "df_no_km.set_index(['etype', 'cellid', 'seed'], inplace=True)"
   ]
  },
  {
   "cell_type": "code",
   "execution_count": 16,
   "id": "bb1bacef",
   "metadata": {},
   "outputs": [],
   "source": [
    "# remove neurons that fires spontaneously after KM blockade\n",
    "df_no_km.drop(df_no_km[df_no_km['AP_count_before_stim'] > 0].index, inplace=True)\n",
    "\n",
    "# select neurons\n",
    "df = df.loc[df_no_km.index, :]\n",
    "\n",
    "df.reset_index(inplace=True)\n",
    "df_no_km.reset_index(inplace=True)"
   ]
  },
  {
   "cell_type": "markdown",
   "id": "03fd6430",
   "metadata": {},
   "source": [
    "## Comparing curves for hyperpolarizing and depolarizing current steps"
   ]
  },
  {
   "cell_type": "code",
   "execution_count": 17,
   "id": "ed62c78f",
   "metadata": {},
   "outputs": [],
   "source": [
    "threshold = 3\n",
    "    \n",
    "y_variable = {'fi':'AP_count', 'tburst':'AP_count_after_stim', 'rmih':'AP_count_after_stim' }\n",
    "\n",
    "for _state in df['state'].unique():\n",
    "    for _protocol, _y_variable in y_variable.items():\n",
    "        # estimate the experimental curves\n",
    "        exp_curve = experiment_df[(experiment_df['state']==_state)&(experiment_df['protocol']==_protocol)]\n",
    "        exp_curve = exp_curve.groupby(['amplitude', 'duration'])[_y_variable].describe()[['count', 'mean', 'std']]\n",
    "        exp_curve.dropna(inplace=True)\n",
    "\n",
    "        # go over the simulated curves\n",
    "        for k, g in df[(df['state']==_state)&(df['protocol']==_protocol)].groupby(['cellid', 'seed']):\n",
    "            sim_curve = g.groupby(['amplitude', 'duration'])[_y_variable].describe()[['count', 'mean', 'std']]\n",
    "            sim_curve.dropna(inplace=True)\n",
    "            \n",
    "            # only cases shown in the experiments\n",
    "            sim_curve = sim_curve.loc[exp_curve.index, :]\n",
    "\n",
    "            # max abs z-score\n",
    "            max_err = ((sim_curve['mean'] - exp_curve['mean']) / (exp_curve['std'] + 0.001)).abs().max()\n",
    "\n",
    "            if max_err > threshold:\n",
    "                # remove if exceeding the threshold\n",
    "                k += (_state, )\n",
    "\n",
    "                df.drop(df[(df[['cellid', 'seed', 'state']]==k).all(axis=1)].index, inplace=True)\n",
    "                df_no_km.drop(df_no_km[(df_no_km[['cellid', 'seed', 'state']]==k).all(axis=1)].index, inplace=True)"
   ]
  },
  {
   "cell_type": "code",
   "execution_count": 18,
   "id": "d3fc5e56",
   "metadata": {
    "scrolled": false
   },
   "outputs": [
    {
     "data": {
      "text/plain": [
       "6ohda     157\n",
       "normal     18\n",
       "Name: state, dtype: int64"
      ]
     },
     "execution_count": 18,
     "metadata": {},
     "output_type": "execute_result"
    }
   ],
   "source": [
    "df[['cellid', 'seed', 'state']].drop_duplicates()['state'].value_counts()"
   ]
  },
  {
   "cell_type": "markdown",
   "id": "7f12b664",
   "metadata": {},
   "source": [
    "## Comparing curves for depolarizing current steps with and without $K_M$"
   ]
  },
  {
   "cell_type": "code",
   "execution_count": 19,
   "id": "a89bd46a",
   "metadata": {},
   "outputs": [],
   "source": [
    "alpha = 0.2 # p value threshold\n",
    "\n",
    "for _state in df['state'].unique():\n",
    "\n",
    "    # estimate the experimental curves\n",
    "    exp_curve = experiment_df[(experiment_df['protocol']=='fi')&(experiment_df['state']==_state)]\n",
    "    exp_curve = exp_curve.groupby(['amplitude', 'duration'])['AP_count'].describe()[['count', 'mean', 'std']]\n",
    "    exp_curve.dropna(inplace=True)\n",
    "\n",
    "    # go over the simulated curves\n",
    "    for k, g in df[(df['protocol']=='fi')&(df['state']==_state)].groupby(['cellid', 'seed']):\n",
    "        sim_curve = g.groupby(['amplitude', 'duration'])['AP_count'].describe()[['mean']]\n",
    "        \n",
    "        g_no_km = df_no_km.loc[(df_no_km[['cellid', 'seed', 'state', 'protocol']] == (k + (_state, 'fi'))).all(axis=1), :]\n",
    "        sim_curve_no_km = g_no_km.groupby(['amplitude', 'duration'])['AP_count'].describe()[['mean']]\n",
    "        \n",
    "        # compare normal vs xe991 curves\n",
    "        p = stats.ranksums(sim_curve.to_numpy()[:, 0], sim_curve_no_km.to_numpy()[:, 0] )[1]        \n",
    "\n",
    "        if  (_state == 'normal' and p >= alpha) or (_state == '6ohda' and p < alpha):\n",
    "            k += (_state, )\n",
    "            df.drop(df[(df[['cellid', 'seed', 'state']] == k).all(axis=1)].index, inplace=True)\n",
    "            df_no_km.drop(df_no_km[(df_no_km[['cellid', 'seed', 'state']] == k).all(axis=1)].index, inplace=True)"
   ]
  },
  {
   "cell_type": "code",
   "execution_count": 20,
   "id": "9611f957",
   "metadata": {
    "scrolled": true
   },
   "outputs": [
    {
     "data": {
      "text/plain": [
       "normal    18\n",
       "6ohda     16\n",
       "Name: state, dtype: int64"
      ]
     },
     "execution_count": 20,
     "metadata": {},
     "output_type": "execute_result"
    }
   ],
   "source": [
    "df[['cellid', 'seed', 'state']].drop_duplicates()['state'].value_counts()"
   ]
  },
  {
   "cell_type": "markdown",
   "id": "ca7188d6",
   "metadata": {},
   "source": [
    "# Save models to files"
   ]
  },
  {
   "cell_type": "code",
   "execution_count": 21,
   "id": "6217281c",
   "metadata": {},
   "outputs": [],
   "source": [
    "def filter_models(filename, id_list, fileout=None):\n",
    "    good_models = {}\n",
    "    for k, v in np.load(filename, allow_pickle=True).tolist().items():\n",
    "       if k in id_list: \n",
    "         good_models.update({k:v})\n",
    "        \n",
    "    if fileout:\n",
    "        np.save(fileout, good_models, allow_pickle=True)"
   ]
  },
  {
   "cell_type": "code",
   "execution_count": 22,
   "id": "daa44790",
   "metadata": {},
   "outputs": [],
   "source": [
    "filter_models(\"hof_3sd_0.npy\", \\\n",
    "              df[['etype', 'cellid', 'seed']].drop_duplicates().set_index(['etype', 'cellid', 'seed']).index.tolist(), \\\n",
    "              fileout=\"hof_3sd_0_good.npy\")"
   ]
  }
 ],
 "metadata": {
  "kernelspec": {
   "display_name": "Python 3 (ipykernel)",
   "language": "python",
   "name": "python3"
  },
  "language_info": {
   "codemirror_mode": {
    "name": "ipython",
    "version": 3
   },
   "file_extension": ".py",
   "mimetype": "text/x-python",
   "name": "python",
   "nbconvert_exporter": "python",
   "pygments_lexer": "ipython3",
   "version": "3.9.13"
  }
 },
 "nbformat": 4,
 "nbformat_minor": 5
}
